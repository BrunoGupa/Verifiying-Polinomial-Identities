{
  "nbformat": 4,
  "nbformat_minor": 0,
  "metadata": {
    "colab": {
      "name": "Verifying Polinomial Identities.ipynb",
      "provenance": [],
      "collapsed_sections": [],
      "authorship_tag": "ABX9TyN2n9kk+LW7MxwNA9SwHFs/",
      "include_colab_link": true
    },
    "kernelspec": {
      "name": "python3",
      "display_name": "Python 3"
    }
  },
  "cells": [
    {
      "cell_type": "markdown",
      "metadata": {
        "id": "view-in-github",
        "colab_type": "text"
      },
      "source": [
        "<a href=\"https://colab.research.google.com/github/BrunoRGutierrez/Verifiying-Polinomial-Identities/blob/master/Verifying_Polinomial_Identities.ipynb\" target=\"_parent\"><img src=\"https://colab.research.google.com/assets/colab-badge.svg\" alt=\"Open In Colab\"/></a>"
      ]
    },
    {
      "cell_type": "code",
      "metadata": {
        "id": "TvgheScCAL9o",
        "colab_type": "code",
        "colab": {}
      },
      "source": [
        "import numpy as np\n",
        "import matplotlib.pyplot as plt\n",
        "#from itertools import zip_longest\n",
        "import random\n",
        "\n",
        "\n",
        "class Poly_extended:\n",
        "    \n",
        "    def __init__(self, *coefficients):\n",
        "        \"\"\" input: coefficients are in the form a_n, ...a_1, a_0 and belong to F1=a_n*x^n +...+a_0\n",
        "        \"\"\"\n",
        "        self.coefficients = list(coefficients) # tuple is turned into a list\n",
        "            \n",
        "    def __call__(self, x):    \n",
        "        res1 = 0\n",
        "        for coeff1 in self.coefficients:\n",
        "            res1 = res1 * x + coeff1\n",
        "        return res1 \n",
        "    \n",
        "    def degree(self):\n",
        "      #it could be the grade +1 if a_0 different of 0, but it doesn't matter in order to built the algorithm\n",
        "        return len(self.coefficients)   \n",
        "    \n",
        "\n",
        "\n",
        "class Poly_factors:\n",
        "    \n",
        "    def __init__(self, *factors):\n",
        "        \"\"\" input: factors      are in the form b_m, ...b_1, b_0 and belong to F2=(x-b_m)*...*(x-b_0)\n",
        "        \"\"\"\n",
        "        self.factors = list(factors) # tuple is turned into a list\n",
        "        \n",
        "    \n",
        "    def __call__(self, x):    \n",
        "        res2 = 1\n",
        "        for coeff2 in self.factors:\n",
        "            res2 = res2 * (x - coeff2)\n",
        "        return res2 \n",
        "    \n",
        "    def degree(self):\n",
        "        return len(self.factors)   \n",
        "    \n",
        "    \n",
        "    \n",
        "    \n",
        "        \n",
        "    \n",
        "\n",
        "\n",
        "# get the maximun degree of both\n",
        "def random_num(p1,p2):\n",
        "    d1 = Poly_extended.degree(p1)\n",
        "    d2 = Poly_factors.degree(p2) \n",
        "    d = max(d1,d2)  \n",
        "    r = random.randrange(100 * d)\n",
        "    return r\n",
        "\n",
        "\n",
        "def verify(p1,p2):\n",
        "    r = random_num(p1,p2)\n",
        "    #print(r)\n",
        "    F1 = p1(r)\n",
        "    F2 = p2(r)\n",
        "    if F1-F2 == 0:\n",
        "        return 'probably True'\n",
        "    else:\n",
        "        return False    \n",
        "\n",
        "            \n"
      ],
      "execution_count": 0,
      "outputs": []
    },
    {
      "cell_type": "markdown",
      "metadata": {
        "id": "MGmIePQ2Ekzf",
        "colab_type": "text"
      },
      "source": [
        "Here we apply the algorith one time"
      ]
    },
    {
      "cell_type": "code",
      "metadata": {
        "id": "RUOxIKjqVWM9",
        "colab_type": "code",
        "outputId": "0f5209cc-75a9-4f04-d965-6d84ce2ffff7",
        "colab": {
          "base_uri": "https://localhost:8080/",
          "height": 34
        }
      },
      "source": [
        "#p1 = Poly_extended(4, 0, -4, 3, 0)\n",
        "\"\"\" input: coefficients are in the form a_n, ...a_1, a_0 and belong to F1=a_n*x^n +...+a_0\n",
        "\"\"\"\n",
        "\n",
        "#p2 = Poly_factors(-0.8, 2.3, 0.5, 1, 0.2)\n",
        "\"\"\" input: factors      are in the form b_m, ...b_1, b_0 and belong to F2=(x-b_m)*...*(x-b_0)\n",
        "\"\"\"\n",
        "p1 = Poly_extended(1, -5, 6) #  x^2 -5x +6\n",
        "p2 = Poly_factors(2,3) #(x-2)(x-3)\n",
        "\n",
        "\n",
        "FF = verify(p1,p2)\n",
        "print(FF)\n",
        "\n",
        "#F1 = p1(1)\n",
        "#F2 = p2(.2)\n",
        "\n",
        "#d1 = Poly_extended.degree(p1)\n",
        "#d2 = Poly_factors.degree(p2)\n",
        "#r = random_num(p1,p2)\n",
        "\n",
        "\n",
        "#print(F1)\n",
        "#print(F2)\n",
        "\n",
        "#print(d)\n",
        "#print(r)"
      ],
      "execution_count": 2,
      "outputs": [
        {
          "output_type": "stream",
          "text": [
            "probably True\n"
          ],
          "name": "stdout"
        }
      ]
    },
    {
      "cell_type": "markdown",
      "metadata": {
        "id": "zi57Mn2jErm2",
        "colab_type": "text"
      },
      "source": [
        "Next we apply the algorith N times, improving the probability to give the correct answer"
      ]
    },
    {
      "cell_type": "code",
      "metadata": {
        "id": "ja7CpSByCapw",
        "colab_type": "code",
        "outputId": "e75920a2-5ee2-4906-d16a-3de15dc24fb0",
        "colab": {
          "base_uri": "https://localhost:8080/",
          "height": 34
        }
      },
      "source": [
        "# Number of iterations\n",
        "N = 100\n",
        "\n",
        "for i in range(N):\n",
        "  FF = verify(p1,p2)\n",
        "  #print(FF)\n",
        "  if FF == False:\n",
        "    print('the two polynomials are not the same')\n",
        "    break\n",
        "  if i == N -1:\n",
        "    print('the polynomials are the diferents with probability ', 0.001**N) \n"
      ],
      "execution_count": 3,
      "outputs": [
        {
          "output_type": "stream",
          "text": [
            "the polynomials are the diferents with probability  1.000000000000002e-300\n"
          ],
          "name": "stdout"
        }
      ]
    }
  ]
}